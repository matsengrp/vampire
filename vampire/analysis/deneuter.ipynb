{
 "cells": [
  {
   "cell_type": "code",
   "execution_count": null,
   "metadata": {},
   "outputs": [],
   "source": [
    "suppressMessages(library(cowplot))\n",
    "library(jsonlite)\n",
    "library(tools)\n",
    "suppressMessages(library(pROC))\n",
    "library(devtools)\n",
    "suppressMessages(devtools::load_all('../R/sumrep'))\n",
    "source('../R/plot.R')\n",
    "\n",
    "theme_set(theme_minimal())"
   ]
  },
  {
   "cell_type": "code",
   "execution_count": null,
   "metadata": {},
   "outputs": [],
   "source": [
    "data_dir = '../_ignore/plotting/2019-01-01-deneuter/'\n",
    "data_path = function(path) paste0(data_dir, path)"
   ]
  },
  {
   "cell_type": "markdown",
   "metadata": {},
   "source": [
    "The following command should run if the data is in the right place."
   ]
  },
  {
   "cell_type": "code",
   "execution_count": null,
   "metadata": {},
   "outputs": [],
   "source": [
    "summarized = data_path('summarized.agg.csv')\n",
    "system(paste('ls', summarized), intern=TRUE)"
   ]
  },
  {
   "cell_type": "markdown",
   "metadata": {},
   "source": [
    "We can't compare likelihoods between OLGA and the VAE, because OLGA happily assigns zero probability to quite a few of the observed sequences in the test set. For example, here it assigns zero probability to 13 of 500 sequences from the first test set.\n",
    "\n",
    "If we take this literally, this means that OLGA has zero out of sample likelihoods for this test set. "
   ]
  },
  {
   "cell_type": "code",
   "execution_count": null,
   "metadata": {},
   "outputs": [],
   "source": [
    "system(paste(\"grep '\\t0.0'\", data_path('H10_B0/test-head.pgen.tsv'), '| wc -l'), intern=TRUE)"
   ]
  },
  {
   "cell_type": "markdown",
   "metadata": {},
   "source": [
    "First we need to pick beta, which we can do on the validation set."
   ]
  },
  {
   "cell_type": "code",
   "execution_count": null,
   "metadata": {},
   "outputs": [],
   "source": [
    "df = read.csv(summarized)\n",
    "\n",
    "df$beta = as.factor(df$beta)\n",
    "df = df[df$model != 'olga', ]\n",
    "\n",
    "id_vars = c('model', 'beta')\n",
    "measure_vars = c('validation_mean_log_p', 'validation_median_log_p')\n",
    "ggplot(\n",
    "    melt(df, id_vars, measure_vars), \n",
    "    aes(beta, value, color=model)\n",
    ") + geom_point() + \n",
    "    ylab('log likelihood') +\n",
    "    facet_wrap(vars(variable))"
   ]
  },
  {
   "cell_type": "markdown",
   "metadata": {},
   "source": [
    "0.875 looks like a good choice, so we'll use that for the rest of this analysis."
   ]
  },
  {
   "cell_type": "code",
   "execution_count": null,
   "metadata": {},
   "outputs": [],
   "source": [
    "our_beta = 0.875\n",
    "fit_dir = data_path('deneuter-2018-12-31.train/0.875/')\n",
    "fit_path = function(path) paste0(fit_dir, path)"
   ]
  },
  {
   "cell_type": "markdown",
   "metadata": {},
   "source": [
    "Let's compare the CDR3 length distribution between the various programs."
   ]
  },
  {
   "cell_type": "code",
   "execution_count": null,
   "metadata": {},
   "outputs": [],
   "source": [
    "prep_sumrep = function(path) {\n",
    "    df = read.csv(path, stringsAsFactors=FALSE)\n",
    "    colnames(df)[colnames(df) == 'amino_acid'] = 'junction_aa'\n",
    "    data.table(df)\n",
    "}\n",
    "named_summary = function(summary_fun, summary_name, path, data_source, data_group) {\n",
    "    df = data.frame(summary_fun(path))\n",
    "    colnames(df) = c(summary_name)\n",
    "    df$source = data_source\n",
    "    df$group = data_group\n",
    "    df\n",
    "}\n",
    "prep_summaries_general = function(data_glob_str, olga_str, basic_str, count_match_str, summary_fun, summary_name) {\n",
    "    aux = function(path, data_source, data_group) {\n",
    "        named_summary(summary_fun, summary_name, path, data_source, data_group)\n",
    "    }\n",
    "    data_df = do.call(rbind, \n",
    "                 lapply(\n",
    "                     Sys.glob(data_path(data_glob_str)),\n",
    "                     function(path) aux(path, 'data', path)\n",
    "                 ))\n",
    "    df = rbind(\n",
    "        aux(fit_path(olga_str), 'olga', 'olga'),\n",
    "        aux(fit_path(basic_str), 'basic', 'basic'),\n",
    "        aux(fit_path(count_match_str), 'count_match', 'count_match') \n",
    "    )\n",
    "    df = rbind(df, data_df)\n",
    "    df$size = 1-as.numeric(df$source == 'data')\n",
    "    df\n",
    "}\n",
    "prep_summaries = function(summary_fun, summary_name)\n",
    "    prep_summaries_general('*/*for-test.csv', 'olga-generated.csv', 'basic/vae-generated.csv', \n",
    "                           'count_match/vae-generated.csv', summary_fun, summary_name)\n",
    "plot_summaries = function(df, summary_name) {\n",
    "    ggplot(df,\n",
    "        aes_string(summary_name, color='source', group='group', size='size')) + \n",
    "        geom_density(bw=1) + scale_size(range=c(0.4, 1))\n",
    "}\n",
    "\n",
    "get_cdr3_lengths = function(path) getCDR3LengthDistribution(prep_sumrep(path), by_amino_acid = TRUE)\n",
    "plot_summaries(prep_summaries(get_cdr3_lengths, 'CDR3_length'), 'CDR3_length')"
   ]
  },
  {
   "cell_type": "code",
   "execution_count": null,
   "metadata": {},
   "outputs": [],
   "source": [
    "get_pwdd = function(path) getPairwiseDistanceDistribution(prep_sumrep(path), column='junction_aa')\n",
    "plot_summaries(prep_summaries(get_pwdd, 'pairwise_distance'), 'pairwise_distance')"
   ]
  },
  {
   "cell_type": "code",
   "execution_count": null,
   "metadata": {},
   "outputs": [],
   "source": [
    "df = read.csv(summarized)\n",
    "\n",
    "trim_sumdiv = function(s) sub(\"sumdiv_\",\"\",s)\n",
    "\n",
    "compare_model_divergences = function(df, beta) {\n",
    "    df = df[df$beta == beta,]\n",
    "    id_vars = c('test_set', 'model')\n",
    "    measure_vars = grep('sumdiv_', colnames(df), value=TRUE)\n",
    "    df = df[c(id_vars, measure_vars)]\n",
    "    ggplot(\n",
    "        melt(df, id_vars, measure_vars, variable.name='divergence_name', value.name='divergence'),\n",
    "        aes_string('model', 'divergence', color='model')\n",
    "    ) + geom_boxplot() +\n",
    "        facet_wrap(vars(divergence_name), scales='free', labeller=as_labeller(trim_sumdiv)) +\n",
    "        scale_y_log10() +\n",
    "        theme(axis.text.x=element_blank()) +\n",
    "        ggtitle(paste('beta =', beta))\n",
    "}\n",
    "\n",
    "compare_model_divergences(df, our_beta)"
   ]
  },
  {
   "cell_type": "code",
   "execution_count": null,
   "metadata": {},
   "outputs": [],
   "source": [
    "get_ppost = function(path) read.csv(path)$Ppost\n",
    "\n",
    "summaries = prep_summaries_general(\n",
    "    'deneuter-2018-12-31.train/*/ppost.csv', 'olga-generated.ppost.csv', 'basic/vae-generated.ppost.csv', \n",
    "    'count_match/vae-generated.ppost.csv', get_ppost, 'Ppost')\n",
    "summaries$log_Ppost = log(summaries$Ppost)\n",
    "\n",
    "plot_summaries(summaries, 'log_Ppost')"
   ]
  },
  {
   "cell_type": "code",
   "execution_count": null,
   "metadata": {},
   "outputs": [],
   "source": [
    "get_pvae = function(path) read.csv(path)$log_p_x\n",
    "\n",
    "summaries = prep_summaries_general(\n",
    "    'deneuter-2018-12-31.train/0.875/basic/*-test.head/test.pvae.csv', 'basic/olga-generated.pvae.csv', 'basic/vae-generated.pvae.csv', \n",
    "    'count_match/vae-generated.pvae.csv', get_pvae, 'log_Pvae')\n",
    "\n",
    "plot_summaries(summaries, 'log_Pvae')"
   ]
  }
 ],
 "metadata": {
  "kernelspec": {
   "display_name": "R",
   "language": "R",
   "name": "ir"
  },
  "language_info": {
   "codemirror_mode": "r",
   "file_extension": ".r",
   "mimetype": "text/x-r-source",
   "name": "R",
   "pygments_lexer": "r",
   "version": "3.5.1"
  }
 },
 "nbformat": 4,
 "nbformat_minor": 2
}
