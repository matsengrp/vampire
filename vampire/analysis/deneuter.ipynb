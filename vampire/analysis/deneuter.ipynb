{
 "cells": [
  {
   "cell_type": "markdown",
   "metadata": {},
   "source": [
    "Analysis of data from:\n",
    "\n",
    "De Neuter, N., Bartholomeus, E., Elias, G., Keersmaekers, N., Suls, A., Jansens, H., … Ogunjimi, B. (2018). Memory CD4 + T cell receptor repertoire data mining as a tool for identifying cytomegalovirus serostatus. Genes & Immunity, 1. <https://doi.org/10.1038/s41435-018-0035-y>\n",
    "\n",
    "Here's their description of the data:\n",
    "\n",
    "> In this study, we collected peripheral blood samples from 9\n",
    "CMV seropositive and 24 CMV seronegative healthy Belgian\n",
    "adults. We sequenced TCRβ sequences from the CD4\n",
    "+CD45RO+ lymphocyte population only, as opposed to the\n",
    "CD4+CD45RO+/− and CD8+CD45RO+/- lymphocyte\n",
    "populations collected in the original study [15], and thus\n",
    "focused solely on the immune signal within the CD4+\n",
    "memory repertoire. After removal of out of frame TCR\n",
    "sequences, 2,204,828 distinct TCRβ sequences were\n",
    "obtained, with a mean of 66 813 sequences per individual.\n",
    "\n",
    "I took these 33 repertoires and randomly split them into 22 training sets and then 11 testing sets. \n",
    "The training sets were mixed and 10% used for actual training, with 90% available for validation.\n",
    "\n",
    "(Note that the original data set has a few replicate samples from some of the repertoires, but I only selected one of the two replicates)."
   ]
  },
  {
   "cell_type": "code",
   "execution_count": null,
   "metadata": {},
   "outputs": [],
   "source": [
    "suppressMessages(library(cowplot))\n",
    "library(jsonlite)\n",
    "library(latex2exp)\n",
    "library(tools)\n",
    "library(devtools)\n",
    "suppressMessages(devtools::load_all('../R/sumrep'))\n",
    "theme_set(theme_minimal())\n",
    "source_colors = c(basic = \"#fc8d62\", count_match = \"#66c2a5\", OLGA.Q =\"#8da0cb\", data = \"#A3A3A3\", train = \"#444444\")"
   ]
  },
  {
   "cell_type": "code",
   "execution_count": null,
   "metadata": {},
   "outputs": [],
   "source": [
    "json_path = '../_ignore/plotting/2019-02-08-deneuter-train/deneuter-2019-02-07.json'\n",
    "#json_path = '../_ignore/plotting/2019-02-09-seshadri/seshadri-2019-02-09.json'\n",
    "#json_path = '../_ignore/plotting/2019-02-20-adaptive-robins-ratio-MS-test-CD8/adaptive-robins-ratio-MS-test-CD8.json'\n",
    "#json_path = '../_ignore/plotting/2019-02-20-robins-ratio-MS-train-CD4/2019-02-20-robins-ratio-MS-train-CD4.json'\n",
    "\n",
    "data_dir = paste0(dirname(json_path),'/')\n",
    "data_path = function(path) paste0(data_dir, path)\n",
    "train_dir = str_replace(json_path, '.json', '.train/')\n",
    "\n",
    "output_dir = '_output/'"
   ]
  },
  {
   "cell_type": "code",
   "execution_count": null,
   "metadata": {},
   "outputs": [],
   "source": [
    "data_json = fromJSON(json_path)\n",
    "test_samples = lapply(\n",
    "    data_json$test_paths,\n",
    "    function(path) tools::file_path_sans_ext(basename(path)))\n",
    "\n",
    "system(paste('mkdir -p ', output_dir))\n",
    "output_path = function(path) paste0(output_dir, path)\n",
    "# This notebook makes nice versions of plots in this directory:\n",
    "normalizePath(output_dir)"
   ]
  },
  {
   "cell_type": "markdown",
   "metadata": {},
   "source": [
    "The following command should run if the data is in the right place."
   ]
  },
  {
   "cell_type": "code",
   "execution_count": null,
   "metadata": {},
   "outputs": [],
   "source": [
    "summarized = data_path('summarized.agg.csv')\n",
    "system(paste('ls', summarized), intern=TRUE)"
   ]
  },
  {
   "cell_type": "markdown",
   "metadata": {},
   "source": [
    "---\n",
    "\n",
    "We will be comparing the VAE methods to OLGA + the thymic Q multiplier suggested by Thierry. \n",
    "For simplicity we will be referring to this method as \"OLGA.Q\". "
   ]
  },
  {
   "cell_type": "markdown",
   "metadata": {},
   "source": [
    "---\n",
    "\n",
    "Here we set the regularization parameter beta.\n",
    "0.75 looks like the best from staring at the Seshadri results."
   ]
  },
  {
   "cell_type": "code",
   "execution_count": null,
   "metadata": {},
   "outputs": [],
   "source": [
    "our_beta = 0.75\n",
    "fit_dir = paste0(train_dir, our_beta, '/')\n",
    "fit_path = function(path) paste0(fit_dir, path)"
   ]
  },
  {
   "cell_type": "markdown",
   "metadata": {},
   "source": [
    "---\n",
    "\n",
    "Let's compare the CDR3 length distribution between the various programs and the data sets. \n",
    "The programs will appear with thick colored lines, while the thin gray lines represent the test data sets."
   ]
  },
  {
   "cell_type": "code",
   "execution_count": null,
   "metadata": {},
   "outputs": [],
   "source": [
    "prep_sumrep = function(path) {\n",
    "    df = read.csv(path, stringsAsFactors=FALSE)\n",
    "    colnames(df)[colnames(df) == 'amino_acid'] = 'junction_aa'\n",
    "    data.table(df)\n",
    "}\n",
    "named_summary = function(summary_fun, summary_name, path, data_source, data_group) {\n",
    "    df = data.frame(summary_fun(path))\n",
    "    colnames(df) = c(summary_name)\n",
    "    df$source = data_source\n",
    "    df$group = data_group\n",
    "    df\n",
    "}\n",
    "prep_summaries_general = function(data_paths, olga_str, basic_str, count_match_str, summary_fun, summary_name) {\n",
    "    aux = function(path, data_source, data_group) {\n",
    "        named_summary(summary_fun, summary_name, path, data_source, data_group)\n",
    "    }\n",
    "    data_df = do.call(rbind, \n",
    "                 lapply(\n",
    "                     data_paths,\n",
    "                     function(path) aux(path, 'data', path)\n",
    "                 ))\n",
    "    df = rbind(\n",
    "        aux(fit_path(olga_str), 'olga', 'olga'),\n",
    "        aux(fit_path(basic_str), 'basic', 'basic'),\n",
    "        aux(fit_path(count_match_str), 'count_match', 'count_match') \n",
    "    )\n",
    "    df = rbind(df, data_df)\n",
    "    df$size = 1-as.numeric(df$source == 'data')\n",
    "    df\n",
    "}\n",
    "prep_summaries = function(summary_fun, summary_name) {\n",
    "    test_head_csvs = \n",
    "        lapply(test_samples, function(sample) data_path(paste0(sample, '/', sample, '.for-test.head.csv')))\n",
    "    prep_summaries_general(test_head_csvs, 'olga-generated.csv', 'basic/vae-generated.csv', \n",
    "                           'count_match/vae-generated.csv', summary_fun, summary_name)\n",
    "}\n",
    "plot_summaries = function(df, summary_name, binwidth=1) {\n",
    "    theme_set(theme_minimal(base_size=18))\n",
    "    df[df$source == 'olga', 'source'] = 'OLGA.Q'\n",
    "    p = ggplot(df,\n",
    "        aes_string(summary_name, color='source', group='group', size='size')) + \n",
    "        geom_freqpoly(aes(y=..density..), binwidth=binwidth) + \n",
    "        scale_size(range=c(0.2, 1.2), guide='none') +\n",
    "        theme(legend.justification=c(0,1), legend.position=c(0,1)) +\n",
    "        scale_color_manual(values=source_colors) + \n",
    "        xlab(gsub('_', ' ', summary_name)) +\n",
    "        ylab('frequency')\n",
    "\n",
    "    ggsave(output_path(paste0(summary_name, '.svg')), width=8, height=4.5)\n",
    "    p\n",
    "}\n",
    "\n",
    "plot_summaries(prep_summaries(\n",
    "    function(path) getCDR3LengthDistribution(prep_sumrep(path), by_amino_acid = TRUE), \n",
    "    'CDR3_length'), 'CDR3_length')"
   ]
  },
  {
   "cell_type": "code",
   "execution_count": null,
   "metadata": {},
   "outputs": [],
   "source": [
    "plot_summaries(prep_summaries(\n",
    "    function(path) getChargeDistribution(prep_sumrep(path), column='junction_aa'),\n",
    "    'charge'), \n",
    "'charge')"
   ]
  },
  {
   "cell_type": "markdown",
   "metadata": {},
   "source": [
    "For each CDR3 sequence, let's look at the distance to the nearest neighbor CDR3 sequence."
   ]
  },
  {
   "cell_type": "code",
   "execution_count": null,
   "metadata": {},
   "outputs": [],
   "source": [
    "plot_summaries(prep_summaries(\n",
    "    function(path) getNearestNeighborDistribution(prep_sumrep(path), column='junction_aa', tol=1e-6),\n",
    "    'nearest_neighbor_Levenshtein_distance'), \n",
    "'nearest_neighbor_Levenshtein_distance')"
   ]
  },
  {
   "cell_type": "markdown",
   "metadata": {},
   "source": [
    "Now let's explore the distribution of pairwise distances between the CDR3 sequences."
   ]
  },
  {
   "cell_type": "markdown",
   "metadata": {},
   "source": [
    "Let's look at divergences from the test sets for TCR sequences generated by the various programs.\n",
    "Each data point in these plots is a divergence between the simulated set of sequences and a collection of sequences from the test set."
   ]
  },
  {
   "cell_type": "code",
   "execution_count": null,
   "metadata": {},
   "outputs": [],
   "source": [
    "df = read.csv(summarized, stringsAsFactors=FALSE)\n",
    "\n",
    "facet_labeller = function(s) {\n",
    "    s = sub(\"sumdiv_\",\"\",s)\n",
    "    s = gsub(\"_\",\" \",s)\n",
    "    s = sub(\"distance\",\"dist\",s)\n",
    "    s\n",
    "}\n",
    "\n",
    "compare_model_divergences = function(df, beta) {\n",
    "    df$synthetic = TRUE\n",
    "    df[df$model == 'train', ]$synthetic = FALSE\n",
    "    df = df[df$beta == beta,]\n",
    "    df[df$model == 'olga', 'model'] = 'OLGA.Q'\n",
    "    id_vars = c('test_set', 'model', 'synthetic')\n",
    "    measure_vars = grep('sumdiv_', colnames(df), value=TRUE)\n",
    "    df = df[c(id_vars, measure_vars)]\n",
    "    theme_set(theme_minimal())\n",
    "    ggplot(\n",
    "        melt(df, id_vars, measure_vars, variable.name='divergence_name', value.name='divergence'),\n",
    "        aes_string('model', 'divergence', color='model', shape='synthetic')\n",
    "    ) + geom_point(position = position_jitterdodge(dodge.width=0.5, jitter.width=0.5)) +\n",
    "        facet_wrap(vars(divergence_name), nrow=3, scales='free', labeller=as_labeller(facet_labeller)) +\n",
    "        scale_y_log10() +\n",
    "        scale_shape_manual(values=c(3, 16)) +\n",
    "        theme(axis.text.x=element_blank(), axis.title.x = element_blank()) +\n",
    "        scale_color_manual(values=source_colors) + \n",
    "        labs(color='data source')\n",
    "}\n",
    "\n",
    "compare_model_divergences(df, our_beta)\n",
    "ggsave(output_path('sumrep_divergences.svg'), width=8, height=4.5)"
   ]
  },
  {
   "cell_type": "markdown",
   "metadata": {},
   "source": [
    "---\n",
    "\n",
    "Now let's look at a more sophisticated way of evaluating sequences, namely Ppost. \n",
    "If a synthetically generated sequence doesn't look like a real VDJ recombination, then Ppost will be low."
   ]
  },
  {
   "cell_type": "code",
   "execution_count": null,
   "metadata": {},
   "outputs": [],
   "source": [
    "get_ppost = function(path) read.csv(path)$Ppost\n",
    "\n",
    "test_ppost_csvs = \n",
    "    lapply(test_samples, \n",
    "           function(sample) paste0(train_dir, sample, '.for-test.head/ppost.csv'))\n",
    "\n",
    "summaries = prep_summaries_general(\n",
    "    test_ppost_csvs, 'olga-generated.ppost.csv', 'basic/vae-generated.ppost.csv', \n",
    "    'count_match/vae-generated.ppost.csv', get_ppost, 'Ppost')\n",
    "summaries$log_Ppost = log(summaries$Ppost)\n",
    "\n",
    "plot_summaries(summaries, 'log_Ppost') + coord_cartesian(xlim=c(-50, -10)) + xlab(TeX(\"$\\\\log(P_{OLGA.Q})$\"))\n",
    "ggsave(output_path('log_Ppost.svg'), width=8, height=4.5)"
   ]
  },
  {
   "cell_type": "markdown",
   "metadata": {},
   "source": [
    "My interpretation of this plot is as follows.\n",
    "\n",
    "The distribution of Ppost for the VAE-generated sequences is comparable to that for the real data. \n",
    "This means that even the very simple model (basic) is learning enough about germline-encoded amino acids to look like real recombinations according to OLGA.\n",
    "We can also see that the VAE is generating a diverse collection of sequences (see the pairwise distance plot) and matching the germline gene usage distribution, so we aren't just generating the same high-probability sequences again and again.\n",
    "\n",
    "What does Pvae look like?"
   ]
  },
  {
   "cell_type": "code",
   "execution_count": null,
   "metadata": {},
   "outputs": [],
   "source": [
    "get_pvae = function(path) read.csv(path)$log_p_x\n",
    "\n",
    "test_pvae_csvs = \n",
    "    lapply(test_samples, \n",
    "           function(sample) fit_path(paste0('basic/',sample,'.for-test.head/test.pvae.csv')))\n",
    "\n",
    "summaries = prep_summaries_general(\n",
    "    test_pvae_csvs, 'basic/olga-generated.pvae.csv', 'basic/vae-generated.pvae.csv', \n",
    "    'count_match/vae-generated.pvae.csv', get_pvae, 'log_Pvae')\n",
    "\n",
    "plot_summaries(summaries, 'log_Pvae') + coord_cartesian(xlim=c(-50, -10)) + xlab(TeX(\"$\\\\log(P_{VAE})$\"))\n",
    "ggsave(output_path('log_Pvae.svg'), width=8, height=4.5)"
   ]
  },
  {
   "cell_type": "markdown",
   "metadata": {},
   "source": [
    "Here we see the surprising result that Pvae is very similar between the VAE-generated sequences and the real sequences. That means that the VAE is not just memorizing the input sequences.\n",
    "\n",
    "Also, we see that the VAE can tell the difference between OLGA-generated sequences and real sequences."
   ]
  },
  {
   "cell_type": "markdown",
   "metadata": {},
   "source": [
    "---"
   ]
  },
  {
   "cell_type": "markdown",
   "metadata": {},
   "source": [
    "#### Interpreting output"
   ]
  },
  {
   "cell_type": "code",
   "execution_count": null,
   "metadata": {},
   "outputs": [],
   "source": [
    "df=read.csv(bzfile(data_path('merged.agg.csv.bz2')), nrow=40000, stringsAsFactors=FALSE)\n",
    "df$log_Pgen = log(df$Pgen)\n",
    "df$diff = df$log_Pvae- df$log_Ppost\n",
    "colnames(df)"
   ]
  },
  {
   "cell_type": "code",
   "execution_count": null,
   "metadata": {},
   "outputs": [],
   "source": [
    "box_by_diff = function(col) {\n",
    "    p = ggplot(df[df$cdr3_length < 21,], aes_string(col, 'diff', group=col)) + \n",
    "        geom_boxplot(outlier.shape = NA) + \n",
    "        theme(aspect.ratio=1)+ \n",
    "        facet_wrap(vars(test_set), scales='free') + \n",
    "        coord_flip() \n",
    "    ggsave(output_path(paste0('box_', col, '.png')), width=12, height=12) \n",
    "    p\n",
    "}\n",
    "\n",
    "box_by_diff('cdr3_length') + ylim(-10, 5)"
   ]
  },
  {
   "cell_type": "code",
   "execution_count": null,
   "metadata": {},
   "outputs": [],
   "source": [
    "df$rounded_charge = round(df$charge)\n",
    "box_by_diff('rounded_charge')+ylim(-10,5)"
   ]
  },
  {
   "cell_type": "code",
   "execution_count": null,
   "metadata": {},
   "outputs": [],
   "source": [
    "plot_by_diff = function(col) {\n",
    "    p = ggplot(df, aes_string('diff', col)) + \n",
    "        geom_hex() + \n",
    "        theme(aspect.ratio=1)+ \n",
    "        facet_wrap(vars(test_set), scales='free')\n",
    "    ggsave(output_path(paste0('diff_vs_', col, '.png')), width=12, height=12) \n",
    "    p\n",
    "}\n",
    "\n",
    "plot_by_diff('gravy')"
   ]
  },
  {
   "cell_type": "code",
   "execution_count": null,
   "metadata": {},
   "outputs": [],
   "source": [
    "plot_by_diff('aromaticity')"
   ]
  },
  {
   "cell_type": "markdown",
   "metadata": {},
   "source": [
    "#### Latent space visualization"
   ]
  },
  {
   "cell_type": "code",
   "execution_count": null,
   "metadata": {},
   "outputs": [],
   "source": [
    "# This file is made by running the python notebook in the analysis directory.\n",
    "\n",
    "df = read.csv(data_path('pcs.csv'))"
   ]
  },
  {
   "cell_type": "code",
   "execution_count": null,
   "metadata": {},
   "outputs": [],
   "source": [
    "v_genes = sort(unique(df$v_gene))\n",
    "popular = data.frame(sort(table(df$v_gene), decreasing=TRUE))[1:7, 1]\n",
    "v_plot = ggplot(df[df$v_gene %in% popular,], aes(pc_1, pc_2, color=v_gene)) + \n",
    "    geom_point(alpha=0.4) +\n",
    "    coord_fixed() + \n",
    "    scale_color_discrete(name=\"V gene\") + \n",
    "    xlab(\"\") + ylab(\"PC 2\")\n",
    "\n",
    "j_plot = ggplot(df, aes(pc_1, pc_2, color=j_gene)) + \n",
    "    geom_point(alpha=0.4) +\n",
    "    scale_color_discrete(name=\"J gene\") + \n",
    "    coord_fixed() + \n",
    "    xlab(\"PC 1\") + ylab(\"PC 2\")\n",
    "\n",
    "p = plot_grid(v_plot, j_plot, labels = c(\"(a)\", \"(b)\"), ncol=1)\n",
    "ggsave(output_path('gene_pca.png'), plot=p, width=8, height=8)"
   ]
  },
  {
   "cell_type": "code",
   "execution_count": null,
   "metadata": {},
   "outputs": [],
   "source": [
    "df = read.csv(data_path('pcs_topgenes.csv'))\n",
    "p = ggplot(df, aes(pc_1, pc_2)) + ggtitle('TCRBV30-01 / TCRBJ01-02')\n",
    "colnames(df)"
   ]
  },
  {
   "cell_type": "code",
   "execution_count": null,
   "metadata": {
    "scrolled": false
   },
   "outputs": [],
   "source": [
    "lapply(colnames(df)[seq(4,20)], function(s) p + geom_point(aes_string(color = s)))"
   ]
  },
  {
   "cell_type": "code",
   "execution_count": null,
   "metadata": {},
   "outputs": [],
   "source": []
  }
 ],
 "metadata": {
  "kernelspec": {
   "display_name": "R",
   "language": "R",
   "name": "ir"
  },
  "language_info": {
   "codemirror_mode": "r",
   "file_extension": ".r",
   "mimetype": "text/x-r-source",
   "name": "R",
   "pygments_lexer": "r",
   "version": "3.5.1"
  }
 },
 "nbformat": 4,
 "nbformat_minor": 2
}
