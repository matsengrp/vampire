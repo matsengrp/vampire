{
 "cells": [
  {
   "cell_type": "code",
   "execution_count": null,
   "metadata": {},
   "outputs": [],
   "source": [
    "# Generic imports:\n",
    "%matplotlib inline\n",
    "import glob\n",
    "import matplotlib.pyplot as plt\n",
    "import numpy as np\n",
    "import pandas as pd\n",
    "import seaborn as sns\n",
    "import math\n",
    "import random\n",
    "import re\n",
    "import os\n",
    "\n",
    "# Machine learning/Stats imports:\n",
    "import keras\n",
    "import tensorflow as tf\n",
    "from sklearn.decomposition import PCA\n",
    "from keras.utils.vis_utils import model_to_dot, plot_model\n",
    "\n",
    "os.chdir('/home/matsen/Downloads/repos/vampire/')\n",
    "import vampire\n",
    "import vampire.xcr_vector_conversion as conversion\n",
    "import vampire.tcr_vae as tcr_vae\n",
    "import vampire.germline_cdr3_aa_tensor as aa_tensor\n",
    "import vampire.models as models\n",
    "import vampire.common as common\n",
    "import vampire.preprocess_adaptive as preprocess\n",
    "\n",
    "import importlib\n",
    "importlib.reload(vampire)\n",
    "\n",
    "def model_to_svg(model, path):\n",
    "    with open(path, 'wb') as fp:\n",
    "        fp.write(model_to_dot(model).create(prog='dot', format='svg'))"
   ]
  },
  {
   "cell_type": "markdown",
   "metadata": {},
   "source": [
    "### Real data"
   ]
  },
  {
   "cell_type": "code",
   "execution_count": null,
   "metadata": {},
   "outputs": [],
   "source": [
    "df = preprocess.apply_all_filters(\n",
    "    preprocess.read_adaptive_tsv('vampire/pipe_main/sample_data/02-0249_TCRB.4000.tsv.bz2'))\n",
    "\n",
    "print(df.iloc[range(1000, 1005), [1,2,3]].to_html(index=False))"
   ]
  },
  {
   "cell_type": "markdown",
   "metadata": {},
   "source": [
    "### `basic` model _before training_"
   ]
  },
  {
   "cell_type": "code",
   "execution_count": null,
   "metadata": {
    "scrolled": false
   },
   "outputs": [],
   "source": [
    "d = tcr_vae.TCRVAE.default_params()\n",
    "d['model'] = 'basic'\n",
    "v = tcr_vae.TCRVAE(d)\n",
    "model_to_svg(v.decoder, '/home/matsen/Downloads/basic_decoder.svg')\n",
    "print(v.generate(5).to_html(index=False))"
   ]
  },
  {
   "cell_type": "markdown",
   "metadata": {},
   "source": [
    "### `count_match` model _before training_"
   ]
  },
  {
   "cell_type": "code",
   "execution_count": null,
   "metadata": {},
   "outputs": [],
   "source": [
    "d = tcr_vae.TCRVAE.default_params()\n",
    "d['model'] = 'count_match'\n",
    "v = tcr_vae.TCRVAE(d)\n",
    "model_to_svg(v.decoder, '/home/matsen/Downloads/count_match_decoder.svg')\n",
    "print(v.generate(5).to_html(index=False))"
   ]
  },
  {
   "cell_type": "code",
   "execution_count": null,
   "metadata": {},
   "outputs": [],
   "source": [
    "plot_model(v.vae, show_shapes=True, to_file='/home/matsen/Downloads/model.png')"
   ]
  },
  {
   "cell_type": "code",
   "execution_count": null,
   "metadata": {
    "scrolled": false
   },
   "outputs": [],
   "source": [
    "d = tcr_vae.TCRVAE.default_params()\n",
    "d['model'] = 'count_match'\n",
    "v = tcr_vae.TCRVAE(d)\n",
    "\n",
    "model_to_svg(v.vae, '/home/matsen/Downloads/count_match.svg')"
   ]
  },
  {
   "cell_type": "code",
   "execution_count": null,
   "metadata": {
    "scrolled": false
   },
   "outputs": [],
   "source": [
    "os.chdir('/home/matsen/Downloads/repos/vampire/vampire/_ignore/plotting/2019-01-18-deneuter-exclude-js')\n",
    "v = tcr_vae.TCRVAE.of_directory('deneuter-2018-12-31.train/0.75/basic/')\n",
    "\n",
    "test = pd.read_csv('H10_B0/H10_B0.for-test.csv',\n",
    "        usecols=['amino_acid', 'v_gene', 'j_gene'])\n",
    "\n",
    "test_onehot = conversion.unpadded_tcrbs_to_onehot(test, 30)\n",
    "\n",
    "z_mean,_ = v.encode(test_onehot)\n",
    "\n",
    "pca = PCA(n_components=2)\n",
    "pca.fit(z_mean)\n",
    "\n",
    "z_mean_pcs = pca.transform(z_mean)\n",
    "test['pc_1'] = z_mean_pcs[:, 0]\n",
    "test['pc_2'] = z_mean_pcs[:, 1]\n",
    "\n",
    "test.to_csv('pcs.csv', index=False)"
   ]
  }
 ],
 "metadata": {
  "kernelspec": {
   "display_name": "Python 3",
   "language": "python",
   "name": "python3"
  },
  "language_info": {
   "codemirror_mode": {
    "name": "ipython",
    "version": 3
   },
   "file_extension": ".py",
   "mimetype": "text/x-python",
   "name": "python",
   "nbconvert_exporter": "python",
   "pygments_lexer": "ipython3",
   "version": "3.6.6"
  }
 },
 "nbformat": 4,
 "nbformat_minor": 2
}
